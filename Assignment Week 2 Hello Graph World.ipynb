{
 "cells": [
  {
   "cell_type": "code",
   "execution_count": 18,
   "metadata": {},
   "outputs": [],
   "source": [
    "import matplotlib.pyplot as plt\n",
    "import networkx as nx\n",
    "%matplotlib inline"
   ]
  },
  {
   "cell_type": "code",
   "execution_count": null,
   "metadata": {},
   "outputs": [],
   "source": [
    "G=nx.Graph()\n",
    "\n",
    "# create edges\n",
    "G.add_edge('Andre','Beverly')\n",
    "G.add_edge('Andre','Carol')\n",
    "G.add_edge('Andre','Diane')\n",
    "G.add_edge('Andre','Fernando')\n",
    "G.add_edge('Beverly','Andre')\n",
    "G.add_edge('Beverly','Diane')\n",
    "G.add_edge('Beverly','Ed')\n",
    "G.add_edge('Beverly','Garth')\n",
    "G.add_edge('Carol','Andre')\n",
    "G.add_edge('Carol','Diane')\n",
    "G.add_edge('Carol','Fernando')\n",
    "G.add_edge('Fernando','Garth')\n",
    "G.add_edge('Fernando','Diane')\n",
    "G.add_edge('Fernando','Carol')\n",
    "G.add_edge('Fernando','Andre')\n",
    "G.add_edge('Garth','Ed')\n",
    "G.add_edge('Garth','Diane')\n",
    "G.add_edge('Garth','Fernando')\n",
    "G.add_edge('Garth','Heather')\n",
    "G.add_edge('Garth','Beverly')\n",
    "G.add_edge('Ed','Beverly')\n",
    "G.add_edge('Ed','Diane')\n",
    "G.add_edge('Ed','Garth')\n",
    "G.add_edge('Heather','Fernando')\n",
    "G.add_edge('Heather','Garth')\n",
    "G.add_edge('Heather','Ike')\n",
    "G.add_edge('Ike','Heather')\n",
    "G.add_edge('Ike','Jane')\n",
    "G.add_edge('Jane','Ike')\n"
   ]
  },
  {
   "cell_type": "code",
   "execution_count": 30,
   "metadata": {},
   "outputs": [],
   "source": [
    "# Set node positions explicitly \n",
    "pos={'Andre':(0,1),\n",
    "     'Beverly':(0,-1),\n",
    "     'Carol':(1,2),\n",
    "     'Diane':(1,0),\n",
    "     'Ed':(1,-2),\n",
    "     'Ike':(4,0),\n",
    "     'Garth':(2,-1),\n",
    "     'Jane':(5,0),\n",
    "     'Fernando':(2,1),\n",
    "     'Heather':(3,0)}"
   ]
  },
  {
   "cell_type": "code",
   "execution_count": 37,
   "metadata": {},
   "outputs": [
    {
     "data": {
      "image/png": "[encoded data removed]",
      "text/plain": [
       "<Figure size 432x288 with 1 Axes>"
      ]
     },
     "metadata": {
      "needs_background": "light"
     },
     "output_type": "display_data"
    }
   ],
   "source": [
    "# nodes\n",
    "nx.draw_networkx_nodes(G,pos,node_size=1000, node_color='gray', default=300)\n",
    "\n",
    "# edges\n",
    "nx.draw_networkx_edges(G,pos,alpha=0.5,width=6,edge_color='purple')\n",
    "\n",
    "# labels\n",
    "nx.draw_networkx_labels(G,pos,font_size=10)\n",
    "\n",
    "plt.axis('off')\n",
    "plt.show( ) # display"
   ]
  },
  {
   "cell_type": "code",
   "execution_count": null,
   "metadata": {},
   "outputs": [],
   "source": []
  }
 ],
 "metadata": {
  "kernelspec": {
   "display_name": "Python 3",
   "language": "python",
   "name": "python3"
  },
  "language_info": {
   "codemirror_mode": {
    "name": "ipython",
    "version": 3
   },
   "file_extension": ".py",
   "mimetype": "text/x-python",
   "name": "python",
   "nbconvert_exporter": "python",
   "pygments_lexer": "ipython3",
   "version": "3.7.1"
  }
 },
 "nbformat": 4,
 "nbformat_minor": 2
}
